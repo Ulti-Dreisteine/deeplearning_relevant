{
 "cells": [
  {
   "cell_type": "code",
   "execution_count": 47,
   "metadata": {},
   "outputs": [],
   "source": [
    "import torch\n",
    "from math import pi\n",
    "import matplotlib.pyplot as plt"
   ]
  },
  {
   "cell_type": "markdown",
   "metadata": {},
   "source": [
    "### **张量测试**"
   ]
  },
  {
   "cell_type": "code",
   "execution_count": 4,
   "metadata": {},
   "outputs": [
    {
     "data": {
      "text/plain": [
       "tensor([0., 0.])"
      ]
     },
     "execution_count": 4,
     "metadata": {},
     "output_type": "execute_result"
    }
   ],
   "source": [
    "tensor = torch.zeros(2)\n",
    "tensor"
   ]
  },
  {
   "cell_type": "markdown",
   "metadata": {},
   "source": [
    "### **组织张量**"
   ]
  },
  {
   "cell_type": "code",
   "execution_count": 17,
   "metadata": {},
   "outputs": [
    {
     "data": {
      "text/plain": [
       "tensor([[ 0.,  1.,  2.,  3.,  4.,  5.],\n",
       "        [ 6.,  7.,  8.,  9., 10., 11.]])"
      ]
     },
     "execution_count": 17,
     "metadata": {},
     "output_type": "execute_result"
    }
   ],
   "source": [
    "tc = torch.arange(12).view(2, 6).float()\n",
    "tc"
   ]
  },
  {
   "cell_type": "markdown",
   "metadata": {},
   "source": [
    "### **成员方法**"
   ]
  },
  {
   "cell_type": "code",
   "execution_count": 18,
   "metadata": {},
   "outputs": [
    {
     "data": {
      "text/plain": [
       "tensor([[   inf, 1.0000, 0.5000, 0.3333, 0.2500, 0.2000],\n",
       "        [0.1667, 0.1429, 0.1250, 0.1111, 0.1000, 0.0909]])"
      ]
     },
     "execution_count": 18,
     "metadata": {},
     "output_type": "execute_result"
    }
   ],
   "source": [
    "tc.reciprocal()  # 倒数"
   ]
  },
  {
   "cell_type": "code",
   "execution_count": 19,
   "metadata": {},
   "outputs": [
    {
     "data": {
      "text/plain": [
       "tensor([[0.0000, 1.0000, 1.4142, 1.7321, 2.0000, 2.2361],\n",
       "        [2.4495, 2.6458, 2.8284, 3.0000, 3.1623, 3.3166]])"
      ]
     },
     "execution_count": 19,
     "metadata": {},
     "output_type": "execute_result"
    }
   ],
   "source": [
    "tc.sqrt()  # 开方"
   ]
  },
  {
   "cell_type": "code",
   "execution_count": 21,
   "metadata": {},
   "outputs": [
    {
     "data": {
      "text/plain": [
       "tensor([[ 0.0000,  0.8415,  0.9093,  0.1411, -0.7568, -0.9589],\n",
       "        [-0.2794,  0.6570,  0.9894,  0.4121, -0.5440, -1.0000]])"
      ]
     },
     "execution_count": 21,
     "metadata": {},
     "output_type": "execute_result"
    }
   ],
   "source": [
    "torch.sin(tc)  # 三角函数"
   ]
  },
  {
   "cell_type": "code",
   "execution_count": 23,
   "metadata": {},
   "outputs": [
    {
     "data": {
      "text/plain": [
       "tensor([[  -inf, 0.0000, 1.0000, 1.5850, 2.0000, 2.3219],\n",
       "        [2.5850, 2.8074, 3.0000, 3.1699, 3.3219, 3.4594]])"
      ]
     },
     "execution_count": 23,
     "metadata": {},
     "output_type": "execute_result"
    }
   ],
   "source": [
    "torch.log2(tc)  # 对数函数"
   ]
  },
  {
   "cell_type": "code",
   "execution_count": 25,
   "metadata": {},
   "outputs": [
    {
     "data": {
      "text/plain": [
       "tensor([[1.0000e+00, 2.7183e+00, 7.3891e+00, 2.0086e+01, 5.4598e+01, 1.4841e+02],\n",
       "        [4.0343e+02, 1.0966e+03, 2.9810e+03, 8.1031e+03, 2.2026e+04, 5.9874e+04]])"
      ]
     },
     "execution_count": 25,
     "metadata": {},
     "output_type": "execute_result"
    }
   ],
   "source": [
    "torch.exp(tc)  # 指数函数"
   ]
  },
  {
   "cell_type": "code",
   "execution_count": 29,
   "metadata": {},
   "outputs": [
    {
     "data": {
      "text/plain": [
       "tensor([[ 3.,  4.,  5.],\n",
       "        [ 9., 14., 19.]])"
      ]
     },
     "execution_count": 29,
     "metadata": {},
     "output_type": "execute_result"
    }
   ],
   "source": [
    "loper = torch.arange(4).reshape(2, 2).float()  # Einstein乘积\n",
    "roper = torch.arange(6).reshape(2, 3).float()\n",
    "torch.einsum('ab, bd->ad', (loper, roper))"
   ]
  },
  {
   "cell_type": "code",
   "execution_count": 32,
   "metadata": {},
   "outputs": [
    {
     "data": {
      "text/plain": [
       "tensor([ 6.0000,  7.0711,  8.2462,  9.4868, 10.7703, 12.0830])"
      ]
     },
     "execution_count": 32,
     "metadata": {},
     "output_type": "execute_result"
    }
   ],
   "source": [
    "tc.norm(p = 2, dim = 0)  # 某维数上的范数"
   ]
  },
  {
   "cell_type": "markdown",
   "metadata": {},
   "source": [
    "### **求解梯度**"
   ]
  },
  {
   "cell_type": "code",
   "execution_count": 35,
   "metadata": {},
   "outputs": [
    {
     "name": "stdout",
     "output_type": "stream",
     "text": [
      "value = -1.0\n",
      "grad = tensor([1.7321, 1.7321])\n"
     ]
    }
   ],
   "source": [
    "x = torch.tensor([pi / 3, pi / 6], requires_grad = True)\n",
    "f = -((x.cos() ** 2).sum()) ** 2\n",
    "print('value = {}'.format(f))\n",
    "f.backward()\n",
    "print('grad = {}'.format(x.grad))"
   ]
  },
  {
   "cell_type": "markdown",
   "metadata": {},
   "source": [
    "### **求解Himmelblau函数极值**"
   ]
  },
  {
   "cell_type": "code",
   "execution_count": 37,
   "metadata": {},
   "outputs": [],
   "source": [
    "def himmelblau(x):\n",
    "    \"\"\"\n",
    "    目标函数\n",
    "    :param x: torch.tensor, 一维张量\n",
    "    \"\"\"\n",
    "    return (x[0] ** 2 + x[1] - 11) ** 2 + (x[0] + x[1] ** 2 - 7) ** 2"
   ]
  },
  {
   "cell_type": "code",
   "execution_count": 68,
   "metadata": {},
   "outputs": [
    {
     "name": "stdout",
     "output_type": "stream",
     "text": [
      "step = 0, x = [-1.0010000467300415, 0.0009999999310821295], f = 163.9559783935547\n",
      "step = 1000, x = [-2.0665175914764404, 1.1916011571884155], f = 89.1389389038086\n",
      "step = 2000, x = [-2.7041757106781006, 2.322864532470703], f = 20.425016403198242\n",
      "step = 3000, x = [-2.8002493381500244, 2.9738569259643555], f = 0.94887775182724\n",
      "step = 4000, x = [-2.804856300354004, 3.1240861415863037], f = 0.0020953714847564697\n"
     ]
    }
   ],
   "source": [
    "x = torch.tensor([-1.0, 0.0], requires_grad = True)\n",
    "f = himmelblau(x)\n",
    "x_record, f_record = [x.tolist()], [f]\n",
    "optimizer = torch.optim.Adam([x,])\n",
    "\n",
    "steps = 5000\n",
    "for step in range(steps):\n",
    "    optimizer.zero_grad()\n",
    "    f.backward()\n",
    "    optimizer.step()\n",
    "    f = himmelblau(x)\n",
    "    \n",
    "    f_record.append(f)\n",
    "    x_record.append(x.tolist())\n",
    "    \n",
    "    if step % 1000 == 0:\n",
    "        print('step = {}, x = {}, f = {}'.format(step, x.tolist(), f))"
   ]
  },
  {
   "cell_type": "code",
   "execution_count": 69,
   "metadata": {},
   "outputs": [
    {
     "data": {
      "image/png": "[encoded data removed]",
      "text/plain": [
       "<Figure size 720x288 with 2 Axes>"
      ]
     },
     "metadata": {
      "needs_background": "light"
     },
     "output_type": "display_data"
    }
   ],
   "source": [
    "plt.figure(figsize = [10, 4])\n",
    "plt.subplot(1, 2, 1)\n",
    "plt.title('locations of x')\n",
    "plt.scatter([p[0] for p in x_record], [p[1] for p in x_record], s = 6)\n",
    "plt.xlabel('x[0]')\n",
    "plt.ylabel('x[1]')\n",
    "plt.grid(True)\n",
    "plt.subplot(1, 2, 2)\n",
    "plt.plot(f_record)\n",
    "plt.xlabel('iteration')\n",
    "plt.ylabel('Himmelblau function value')\n",
    "plt.grid(True)\n",
    "plt.tight_layout()"
   ]
  }
 ],
 "metadata": {
  "kernelspec": {
   "display_name": "Python 3",
   "language": "python",
   "name": "python3"
  },
  "language_info": {
   "codemirror_mode": {
    "name": "ipython",
    "version": 3
   },
   "file_extension": ".py",
   "mimetype": "text/x-python",
   "name": "python",
   "nbconvert_exporter": "python",
   "pygments_lexer": "ipython3",
   "version": "3.7.1"
  }
 },
 "nbformat": 4,
 "nbformat_minor": 2
}
